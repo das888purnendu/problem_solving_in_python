{
 "cells": [
  {
   "cell_type": "code",
   "execution_count": 1,
   "metadata": {},
   "outputs": [],
   "source": [
    "class node:\n",
    "    def __init__(self,val=None,nxt=None):\n",
    "        self.val=val\n",
    "        self.nxt=nxt\n",
    "        \n",
    "class Linkedlist:\n",
    "    def __init__(self):\n",
    "        self.head=None\n",
    "        \n",
    "    def insert(self, n):\n",
    "        n1 = node(n)\n",
    "        if self.head is None:\n",
    "            self.head = n1\n",
    "            return\n",
    "        end = self.head\n",
    "        while (end.nxt):\n",
    "            end = end.nxt\n",
    "        end.nxt = n1"
   ]
  },
  {
   "cell_type": "code",
   "execution_count": 5,
   "metadata": {},
   "outputs": [
    {
     "name": "stdout",
     "output_type": "stream",
     "text": [
      "Press Enter to Quit or Enter a Number : 1\n",
      "Press Enter to Quit or Enter a Number : 2\n",
      "Press Enter to Quit or Enter a Number : 3\n",
      "Press Enter to Quit or Enter a Number : 4\n",
      "Press Enter to Quit or Enter a Number : 5\n",
      "Press Enter to Quit or Enter a Number : 6\n",
      "Press Enter to Quit or Enter a Number : 7\n",
      "Press Enter to Quit or Enter a Number : 8\n",
      "Press Enter to Quit or Enter a Number : 9\n",
      "Press Enter to Quit or Enter a Number : 10\n",
      "Press Enter to Quit or Enter a Number : \n"
     ]
    }
   ],
   "source": [
    "l1=Linkedlist()\n",
    "\n",
    "while True:\n",
    "    n=input(\"Press Enter to Quit or Enter a Number : \")\n",
    "    \n",
    "    if(not n.isnumeric()):\n",
    "        break\n",
    "    else:\n",
    "        n=int(n)\n",
    " \n",
    "    l1.insert(n)"
   ]
  },
  {
   "cell_type": "code",
   "execution_count": 7,
   "metadata": {},
   "outputs": [
    {
     "name": "stdout",
     "output_type": "stream",
     "text": [
      "1\n",
      "2\n",
      "3\n",
      "4\n",
      "5\n",
      "6\n",
      "7\n",
      "8\n",
      "9\n",
      "10\n"
     ]
    }
   ],
   "source": [
    "tmp=l1.head\n",
    "while(tmp):\n",
    "    print(tmp.val)\n",
    "    tmp=tmp.nxt"
   ]
  },
  {
   "cell_type": "code",
   "execution_count": null,
   "metadata": {},
   "outputs": [],
   "source": []
  }
 ],
 "metadata": {
  "kernelspec": {
   "display_name": "Python 3",
   "language": "python",
   "name": "python3"
  },
  "language_info": {
   "codemirror_mode": {
    "name": "ipython",
    "version": 3
   },
   "file_extension": ".py",
   "mimetype": "text/x-python",
   "name": "python",
   "nbconvert_exporter": "python",
   "pygments_lexer": "ipython3",
   "version": "3.8.3"
  }
 },
 "nbformat": 4,
 "nbformat_minor": 4
}
